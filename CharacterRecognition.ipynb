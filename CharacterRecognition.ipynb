{
 "cells": [
  {
   "cell_type": "markdown",
   "metadata": {},
   "source": [
    "# Character Recognition with Semeion Dataset"
   ]
  },
  {
   "cell_type": "markdown",
   "metadata": {},
   "source": [
    "### Imports"
   ]
  },
  {
   "cell_type": "code",
   "execution_count": 1,
   "metadata": {},
   "outputs": [
    {
     "name": "stdout",
     "output_type": "stream",
     "text": [
      "2.0.0-alpha0\n"
     ]
    }
   ],
   "source": [
    "import os\n",
    "import datetime\n",
    "# TensorFlow and tf.keras\n",
    "import tensorflow as tf\n",
    "from tensorflow import keras\n",
    "\n",
    "from tensorflow.keras.wrappers.scikit_learn import KerasClassifier\n",
    "from tensorflow.python.framework import dtypes, random_seed\n",
    "\n",
    "from sklearn.model_selection import cross_val_score\n",
    "from sklearn.model_selection import StratifiedKFold\n",
    "from sklearn.model_selection import cross_val_predict\n",
    "from sklearn.model_selection import cross_validate\n",
    "from sklearn.metrics import confusion_matrix, classification_report\n",
    "from sklearn.metrics import make_scorer, accuracy_score, precision_score, recall_score, f1_score\n",
    "\n",
    "# Helper libraries\n",
    "import numpy as np\n",
    "import pandas as pd\n",
    "import collections\n",
    "from random import shuffle\n",
    "import matplotlib.pyplot as plt\n",
    "\n",
    "print(tf.__version__)"
   ]
  },
  {
   "cell_type": "markdown",
   "metadata": {},
   "source": [
    "___"
   ]
  },
  {
   "cell_type": "markdown",
   "metadata": {},
   "source": [
    "### Read the semeion dataset"
   ]
  },
  {
   "cell_type": "markdown",
   "metadata": {},
   "source": [
    "The semeion dataset consists of 1593 digits from 0 to 9 manuscripts, which were scanned in gray scale and adjusted in a rectangle of 16x16, totaling 256 pixels. Each line in the file consists of the value of 256 pixels (normalized between 0 and 1), followed by the number indication that the 256 pixels represent. This indication is made using 10 values. For example, an entry corresponding to the number 0 is indicated by [1000000000].\n",
    "\n",
    "The dataset is the object that will contain the data, and it has three attributes: train, test and data. Since train corresponds to 80% of the data scrambled and test corresponds to 20% of the scrambled data, each containing the images and labels. But, the data attribute has all the dataset also separated between images and labels but sorted as it comes in the file."
   ]
  },
  {
   "cell_type": "code",
   "execution_count": 2,
   "metadata": {},
   "outputs": [],
   "source": [
    "class DataSet(object):\n",
    "    def __init__(self, images, labels, reshape = False, seed = None):\n",
    "        seed1, seed2 = random_seed.get_seed(seed)\n",
    "\n",
    "        #If op level seed is not set, use whatever graph level seed is returned\n",
    "        np.random.seed(seed1 if seed is None else seed2)\n",
    "\n",
    "        assert images.shape[0] == labels.shape[0], ('images.shape: %s labels.shape: %s' % (images.shape, labels.shape))\n",
    "\n",
    "        self.num_examples = images.shape[0]\n",
    "\n",
    "        #Convert shape from [num examples, rows, columns, depth] to [num examples, rows*columns](assuming depth == 1)\n",
    "        if reshape:\n",
    "            assert images.shape[3] == 1\n",
    "            images = images.reshape(images.shape[0], images.shape[1] * images.shape[2])\n",
    "\n",
    "        self.images = images\n",
    "        self.labels = labels\n",
    "        \n",
    "\n",
    "\n",
    "def read_data_semeion(fname = 'data/semeion.data', test_split=False):\n",
    "    file = open(fname, 'r')\n",
    "    lines = file.readlines()\n",
    "\n",
    "    width = 16\n",
    "    height = 16\n",
    "    size = width * height\n",
    "    classes = 10\n",
    "\n",
    "    images = [];\n",
    "    labels = [];\n",
    "    fnumber = 0;\n",
    "\n",
    "    for line in lines:\n",
    "        data = line.split(' ')\n",
    "        image = [];\n",
    "        label = [];\n",
    "\n",
    "        for i in range(0, size):\n",
    "            image.append(int(float(data[i])))\n",
    "        images.append(image)\n",
    "\n",
    "        for i in range(size, size + classes):\n",
    "            label.append(int(float(data[i]))) \n",
    "        labels.append(label)\n",
    "\n",
    "        fnumber += 1\n",
    "    \n",
    "\n",
    "    Datasets = collections.namedtuple('Datasets', ['train', 'test', 'data'])\n",
    "    \n",
    "    #Shuffle data\n",
    "    images_shuffle = []\n",
    "    labels_shuffle = []\n",
    "    indexes = list(range(len(images)))\n",
    "    shuffle(indexes)\n",
    "    for i in indexes:\n",
    "        images_shuffle.append(images[i])\n",
    "        labels_shuffle.append(labels[i])\n",
    "\n",
    "    images = images_shuffle\n",
    "    labels = labels_shuffle\n",
    "\n",
    "    samples = len(lines)\n",
    "    train_samples = int(0.8*samples)\n",
    "    test_samples = int(0.2*samples) + 1\n",
    "\n",
    "    #Train set\n",
    "    image_train = np.array(images[:train_samples], dtype=np.uint8)\n",
    "    image_train = image_train.reshape(train_samples, width, height)\n",
    "\n",
    "    label_train = np.array(labels[:train_samples], dtype=np.uint8)\n",
    "\n",
    "    train = DataSet(image_train, label_train, reshape=False)\n",
    "\n",
    "    #test set\n",
    "    image_test = np.array(images[train_samples:], dtype=np.uint8)\n",
    "    image_test = image_test.reshape(test_samples, width, height)\n",
    "\n",
    "    label_test = np.array(labels[train_samples:], dtype=np.uint8)\n",
    "\n",
    "    test = DataSet(image_test, label_test, reshape=False)\n",
    "\n",
    "    image_data = np.array(images, dtype=np.uint8)\n",
    "    image_data = image_data.reshape(samples, width, height)\n",
    "    data = DataSet(image_data, np.array(labels, dtype=np.uint8))\n",
    "\n",
    "    return Datasets(train=train, test=test, data=data)\n",
    "\n",
    "\n",
    "dataset = read_data_semeion()"
   ]
  },
  {
   "cell_type": "markdown",
   "metadata": {},
   "source": [
    "#### Check the shape of the dataset"
   ]
  },
  {
   "cell_type": "code",
   "execution_count": 3,
   "metadata": {},
   "outputs": [
    {
     "data": {
      "text/plain": [
       "(1593, 16, 16)"
      ]
     },
     "execution_count": 3,
     "metadata": {},
     "output_type": "execute_result"
    }
   ],
   "source": [
    "dataset.data.images.shape"
   ]
  },
  {
   "cell_type": "code",
   "execution_count": 4,
   "metadata": {},
   "outputs": [
    {
     "data": {
      "text/plain": [
       "(1593, 10)"
      ]
     },
     "execution_count": 4,
     "metadata": {},
     "output_type": "execute_result"
    }
   ],
   "source": [
    "dataset.data.labels.shape"
   ]
  },
  {
   "cell_type": "code",
   "execution_count": 5,
   "metadata": {},
   "outputs": [
    {
     "data": {
      "text/plain": [
       "(1274, 16, 16)"
      ]
     },
     "execution_count": 5,
     "metadata": {},
     "output_type": "execute_result"
    }
   ],
   "source": [
    "dataset.train.images.shape"
   ]
  },
  {
   "cell_type": "code",
   "execution_count": 6,
   "metadata": {},
   "outputs": [
    {
     "data": {
      "text/plain": [
       "(1274, 10)"
      ]
     },
     "execution_count": 6,
     "metadata": {},
     "output_type": "execute_result"
    }
   ],
   "source": [
    "dataset.train.labels.shape"
   ]
  },
  {
   "cell_type": "code",
   "execution_count": 7,
   "metadata": {},
   "outputs": [
    {
     "data": {
      "text/plain": [
       "(319, 16, 16)"
      ]
     },
     "execution_count": 7,
     "metadata": {},
     "output_type": "execute_result"
    }
   ],
   "source": [
    "dataset.test.images.shape"
   ]
  },
  {
   "cell_type": "code",
   "execution_count": 8,
   "metadata": {},
   "outputs": [
    {
     "data": {
      "text/plain": [
       "(319, 10)"
      ]
     },
     "execution_count": 8,
     "metadata": {},
     "output_type": "execute_result"
    }
   ],
   "source": [
    "dataset.test.labels.shape"
   ]
  },
  {
   "cell_type": "markdown",
   "metadata": {},
   "source": [
    "#### Plot some images"
   ]
  },
  {
   "cell_type": "code",
   "execution_count": 9,
   "metadata": {},
   "outputs": [
    {
     "data": {
      "image/png": "[encoded data removed]",
      "text/plain": [
       "<Figure size 432x288 with 2 Axes>"
      ]
     },
     "metadata": {
      "needs_background": "light"
     },
     "output_type": "display_data"
    }
   ],
   "source": [
    "plt.figure()\n",
    "plt.imshow(dataset.test.images[301])\n",
    "plt.colorbar()\n",
    "plt.grid(False)"
   ]
  },
  {
   "cell_type": "code",
   "execution_count": 10,
   "metadata": {},
   "outputs": [
    {
     "data": {
      "image/png": "[encoded data removed]",
      "text/plain": [
       "<Figure size 720x720 with 25 Axes>"
      ]
     },
     "metadata": {},
     "output_type": "display_data"
    }
   ],
   "source": [
    "plt.figure(figsize=(10,10))\n",
    "for i in range(25):\n",
    "    plt.subplot(5,5,i+1)\n",
    "    plt.xticks([])\n",
    "    plt.yticks([])\n",
    "    plt.grid(False)\n",
    "    plt.imshow(dataset.data.images[i], cmap=plt.cm.binary)\n",
    "    plt.xlabel(np.argmax(dataset.train.labels[i]))\n",
    "plt.show()"
   ]
  },
  {
   "cell_type": "markdown",
   "metadata": {},
   "source": [
    "___"
   ]
  },
  {
   "cell_type": "markdown",
   "metadata": {},
   "source": [
    "### Create the model architecture"
   ]
  },
  {
   "cell_type": "markdown",
   "metadata": {},
   "source": [
    "For compile the multilayer perceptrons below, the optimizer chose was \"adam\", because he performs the backpropagation with was require by the professor."
   ]
  },
  {
   "cell_type": "markdown",
   "metadata": {},
   "source": [
    "The multi-layer perceptron created below has an input layer that simply transforms images from 16x16 to 256. It has a hidden layer with 64 neurons and an output layer with 10 neurons. The activation functions used were the logistic function (sigmoid)."
   ]
  },
  {
   "cell_type": "code",
   "execution_count": 11,
   "metadata": {},
   "outputs": [],
   "source": [
    "# Function to create model, required for KerasClassifier\n",
    "def create_model_1():\n",
    "    # create model\n",
    "    model = keras.Sequential()\n",
    "    model.add(keras.layers.Flatten(input_shape=(16, 16)))\n",
    "    model.add(keras.layers.Dense(64, activation='sigmoid'))\n",
    "    model.add(keras.layers.Dense(10, activation='sigmoid'))\n",
    "    # Compile model\n",
    "    model.compile(loss='categorical_crossentropy', optimizer='adam', metrics=['accuracy'])\n",
    "    return model"
   ]
  },
  {
   "cell_type": "markdown",
   "metadata": {},
   "source": [
    "The multi-layer perceptron created below has an input layer that simply transforms images from 16x16 to 256. It has two hidden layers with 32 neurons each and an output layer with 10 neurons. The activation functions used were the logistic function (sigmoid)."
   ]
  },
  {
   "cell_type": "code",
   "execution_count": 12,
   "metadata": {},
   "outputs": [],
   "source": [
    "# Function to create model, required for KerasClassifier\n",
    "def create_model_2():\n",
    "    # create model\n",
    "    model = keras.Sequential()\n",
    "    model.add(keras.layers.Flatten(input_shape=(16, 16)))\n",
    "    model.add(keras.layers.Dense(32, activation='sigmoid'))\n",
    "    model.add(keras.layers.Dense(32, activation='sigmoid'))\n",
    "    model.add(keras.layers.Dense(10, activation='sigmoid'))\n",
    "    # Compile model\n",
    "    model.compile(loss='categorical_crossentropy', optimizer='adam', metrics=['accuracy'])\n",
    "    return model"
   ]
  },
  {
   "cell_type": "markdown",
   "metadata": {},
   "source": [
    "The multi-layer perceptron created below has an input layer that simply transforms images from 16x16 to 256. It has five hidden layers with 16 neurons each and an output layer with 10 neurons. The activation functions used were the logistic function (sigmoid)."
   ]
  },
  {
   "cell_type": "code",
   "execution_count": 13,
   "metadata": {},
   "outputs": [],
   "source": [
    "# Function to create model, required for KerasClassifier\n",
    "def create_model_3():\n",
    "    # create model\n",
    "    model = keras.Sequential()\n",
    "    model.add(keras.layers.Flatten(input_shape=(16, 16)))\n",
    "    model.add(keras.layers.Dense(16, activation='sigmoid'))\n",
    "    model.add(keras.layers.Dense(16, activation='sigmoid'))\n",
    "    model.add(keras.layers.Dense(16, activation='sigmoid'))\n",
    "    model.add(keras.layers.Dense(16, activation='sigmoid'))\n",
    "    model.add(keras.layers.Dense(16, activation='sigmoid'))\n",
    "    model.add(keras.layers.Dense(10, activation='sigmoid'))\n",
    "    # Compile model\n",
    "    model.compile(loss='categorical_crossentropy', optimizer='adam', metrics=['accuracy'])\n",
    "    return model"
   ]
  },
  {
   "cell_type": "markdown",
   "metadata": {},
   "source": [
    "To select the neural network that will be used just copy the method of the function that creates the neural network in the first parameter \"build_fn\" below."
   ]
  },
  {
   "cell_type": "code",
   "execution_count": 14,
   "metadata": {},
   "outputs": [],
   "source": [
    "# Wrap Keras model so it can be used by scikit-learn\n",
    "neural_network_1 = KerasClassifier(build_fn=create_model_1, \n",
    "                                 epochs=100, \n",
    "                                 batch_size=64, \n",
    "                                 verbose=0)"
   ]
  },
  {
   "cell_type": "code",
   "execution_count": 15,
   "metadata": {},
   "outputs": [],
   "source": [
    "# Wrap Keras model so it can be used by scikit-learn\n",
    "neural_network_2 = KerasClassifier(build_fn=create_model_2, \n",
    "                                 epochs=100, \n",
    "                                 batch_size=64, \n",
    "                                 verbose=0)"
   ]
  },
  {
   "cell_type": "code",
   "execution_count": 16,
   "metadata": {},
   "outputs": [],
   "source": [
    "# Wrap Keras model so it can be used by scikit-learn\n",
    "neural_network_3 = KerasClassifier(build_fn=create_model_3, \n",
    "                                 epochs=100, \n",
    "                                 batch_size=64, \n",
    "                                 verbose=0)"
   ]
  },
  {
   "cell_type": "markdown",
   "metadata": {},
   "source": [
    "The scores assessed on this problem are accuracy, precision, recall and f1_score."
   ]
  },
  {
   "cell_type": "code",
   "execution_count": 17,
   "metadata": {},
   "outputs": [],
   "source": [
    "scoring = {'accuracy' : make_scorer(accuracy_score), \n",
    "           'precision' : make_scorer(precision_score, average='weighted'),\n",
    "           'recall' : make_scorer(recall_score, average='weighted'), \n",
    "           'f1_score' : make_scorer(f1_score, average='weighted')}"
   ]
  },
  {
   "cell_type": "markdown",
   "metadata": {},
   "source": [
    "The labels have returned to categorization where a one-hot-embedding is not used. That is, [0100000000] becomes 1."
   ]
  },
  {
   "cell_type": "code",
   "execution_count": 18,
   "metadata": {},
   "outputs": [],
   "source": [
    "Y = []\n",
    "for y in range(len(dataset.data.labels)):\n",
    "    Y.append(np.argmax(dataset.data.labels[y]))"
   ]
  },
  {
   "cell_type": "markdown",
   "metadata": {},
   "source": [
    "Here the model is trained using cross-validation with five subsets with the same proportion of classes."
   ]
  },
  {
   "cell_type": "code",
   "execution_count": 19,
   "metadata": {},
   "outputs": [],
   "source": [
    "# Evaluate neural network using five-fold cross-validation\n",
    "kfold = StratifiedKFold(n_splits=5, shuffle=True, random_state=42)\n",
    "acc_results_1 = cross_validate(neural_network_1, dataset.data.images, Y, cv=kfold, scoring=scoring, return_train_score=False)"
   ]
  },
  {
   "cell_type": "code",
   "execution_count": 20,
   "metadata": {},
   "outputs": [],
   "source": [
    "acc_results_2 = cross_validate(neural_network_2, dataset.data.images, Y, cv=kfold, scoring=scoring, return_train_score=False)"
   ]
  },
  {
   "cell_type": "code",
   "execution_count": 21,
   "metadata": {},
   "outputs": [
    {
     "name": "stderr",
     "output_type": "stream",
     "text": [
      "C:\\ProgramData\\Anaconda3\\envs\\tf_env\\lib\\site-packages\\sklearn\\metrics\\classification.py:1143: UndefinedMetricWarning: Precision is ill-defined and being set to 0.0 in labels with no predicted samples.\n",
      "  'precision', 'predicted', average, warn_for)\n",
      "C:\\ProgramData\\Anaconda3\\envs\\tf_env\\lib\\site-packages\\sklearn\\metrics\\classification.py:1143: UndefinedMetricWarning: F-score is ill-defined and being set to 0.0 in labels with no predicted samples.\n",
      "  'precision', 'predicted', average, warn_for)\n"
     ]
    }
   ],
   "source": [
    "acc_results_3 = cross_validate(neural_network_3, dataset.data.images, Y, cv=kfold, scoring=scoring, return_train_score=False)"
   ]
  },
  {
   "cell_type": "markdown",
   "metadata": {},
   "source": [
    "The results are:"
   ]
  },
  {
   "cell_type": "code",
   "execution_count": 22,
   "metadata": {},
   "outputs": [
    {
     "data": {
      "text/plain": [
       "{'fit_time': array([8.37670803, 7.88378692, 8.69573569, 6.80475807, 7.39157319]),\n",
       " 'score_time': array([0.04732823, 0.03989339, 0.03989267, 0.04390025, 0.04687452]),\n",
       " 'test_accuracy': array([0.9504644 , 0.940625  , 0.94670846, 0.91798107, 0.88853503]),\n",
       " 'test_precision': array([0.95276512, 0.94332504, 0.94885896, 0.91840648, 0.89111451]),\n",
       " 'test_recall': array([0.9504644 , 0.940625  , 0.94670846, 0.91798107, 0.88853503]),\n",
       " 'test_f1_score': array([0.95075363, 0.94095165, 0.94699219, 0.91699087, 0.88792766])}"
      ]
     },
     "execution_count": 22,
     "metadata": {},
     "output_type": "execute_result"
    }
   ],
   "source": [
    "acc_results_1"
   ]
  },
  {
   "cell_type": "code",
   "execution_count": 23,
   "metadata": {},
   "outputs": [
    {
     "data": {
      "text/plain": [
       "{'fit_time': array([8.81495667, 7.93708515, 8.32010531, 8.95106506, 8.1073091 ]),\n",
       " 'score_time': array([0.05027914, 0.05385685, 0.05784535, 0.07978487, 0.05285954]),\n",
       " 'test_accuracy': array([0.92879257, 0.915625  , 0.90595611, 0.90536278, 0.89171975]),\n",
       " 'test_precision': array([0.9316195 , 0.91933543, 0.90906155, 0.90669153, 0.89690198]),\n",
       " 'test_recall': array([0.92879257, 0.915625  , 0.90595611, 0.90536278, 0.89171975]),\n",
       " 'test_f1_score': array([0.92872227, 0.91574818, 0.90555267, 0.90468016, 0.89147426])}"
      ]
     },
     "execution_count": 23,
     "metadata": {},
     "output_type": "execute_result"
    }
   ],
   "source": [
    "acc_results_2"
   ]
  },
  {
   "cell_type": "code",
   "execution_count": 24,
   "metadata": {},
   "outputs": [
    {
     "data": {
      "text/plain": [
       "{'fit_time': array([10.4323616 , 10.66483974, 10.22502518, 10.62523556, 10.68736601]),\n",
       " 'score_time': array([0.07480192, 0.07377601, 0.07480049, 0.07183123, 0.07164645]),\n",
       " 'test_accuracy': array([0.45510836, 0.415625  , 0.30721003, 0.41640379, 0.70063694]),\n",
       " 'test_precision': array([0.38985874, 0.28038674, 0.22011452, 0.3076314 , 0.71172457]),\n",
       " 'test_recall': array([0.45510836, 0.415625  , 0.30721003, 0.41640379, 0.70063694]),\n",
       " 'test_f1_score': array([0.36707308, 0.30478425, 0.21050904, 0.33006086, 0.70198878])}"
      ]
     },
     "execution_count": 24,
     "metadata": {},
     "output_type": "execute_result"
    }
   ],
   "source": [
    "acc_results_3"
   ]
  },
  {
   "cell_type": "markdown",
   "metadata": {},
   "source": [
    "Transforming the results into a dataset to export to latex."
   ]
  },
  {
   "cell_type": "code",
   "execution_count": 25,
   "metadata": {},
   "outputs": [
    {
     "data": {
      "text/html": [
       "<div>\n",
       "<style scoped>\n",
       "    .dataframe tbody tr th:only-of-type {\n",
       "        vertical-align: middle;\n",
       "    }\n",
       "\n",
       "    .dataframe tbody tr th {\n",
       "        vertical-align: top;\n",
       "    }\n",
       "\n",
       "    .dataframe thead th {\n",
       "        text-align: right;\n",
       "    }\n",
       "</style>\n",
       "<table border=\"1\" class=\"dataframe\">\n",
       "  <thead>\n",
       "    <tr style=\"text-align: right;\">\n",
       "      <th></th>\n",
       "      <th>Accuracy</th>\n",
       "      <th>Precision</th>\n",
       "      <th>Recall</th>\n",
       "      <th>F1-Score</th>\n",
       "    </tr>\n",
       "  </thead>\n",
       "  <tbody>\n",
       "    <tr>\n",
       "      <th>0</th>\n",
       "      <td>0.950464</td>\n",
       "      <td>0.952765</td>\n",
       "      <td>0.950464</td>\n",
       "      <td>0.950754</td>\n",
       "    </tr>\n",
       "    <tr>\n",
       "      <th>1</th>\n",
       "      <td>0.940625</td>\n",
       "      <td>0.943325</td>\n",
       "      <td>0.940625</td>\n",
       "      <td>0.940952</td>\n",
       "    </tr>\n",
       "    <tr>\n",
       "      <th>2</th>\n",
       "      <td>0.946708</td>\n",
       "      <td>0.948859</td>\n",
       "      <td>0.946708</td>\n",
       "      <td>0.946992</td>\n",
       "    </tr>\n",
       "    <tr>\n",
       "      <th>3</th>\n",
       "      <td>0.917981</td>\n",
       "      <td>0.918406</td>\n",
       "      <td>0.917981</td>\n",
       "      <td>0.916991</td>\n",
       "    </tr>\n",
       "    <tr>\n",
       "      <th>4</th>\n",
       "      <td>0.888535</td>\n",
       "      <td>0.891115</td>\n",
       "      <td>0.888535</td>\n",
       "      <td>0.887928</td>\n",
       "    </tr>\n",
       "  </tbody>\n",
       "</table>\n",
       "</div>"
      ],
      "text/plain": [
       "   Accuracy  Precision    Recall  F1-Score\n",
       "0  0.950464   0.952765  0.950464  0.950754\n",
       "1  0.940625   0.943325  0.940625  0.940952\n",
       "2  0.946708   0.948859  0.946708  0.946992\n",
       "3  0.917981   0.918406  0.917981  0.916991\n",
       "4  0.888535   0.891115  0.888535  0.887928"
      ]
     },
     "execution_count": 25,
     "metadata": {},
     "output_type": "execute_result"
    }
   ],
   "source": [
    "df_1 = pd.DataFrame(acc_results_1)\n",
    "df_1.drop(columns=['fit_time', 'score_time'], inplace=True)\n",
    "columns = ['Accuracy', 'Precision', 'Recall', 'F1-Score']\n",
    "df_1.columns = columns\n",
    "df_1.head()"
   ]
  },
  {
   "cell_type": "code",
   "execution_count": 26,
   "metadata": {},
   "outputs": [
    {
     "data": {
      "text/html": [
       "<div>\n",
       "<style scoped>\n",
       "    .dataframe tbody tr th:only-of-type {\n",
       "        vertical-align: middle;\n",
       "    }\n",
       "\n",
       "    .dataframe tbody tr th {\n",
       "        vertical-align: top;\n",
       "    }\n",
       "\n",
       "    .dataframe thead th {\n",
       "        text-align: right;\n",
       "    }\n",
       "</style>\n",
       "<table border=\"1\" class=\"dataframe\">\n",
       "  <thead>\n",
       "    <tr style=\"text-align: right;\">\n",
       "      <th></th>\n",
       "      <th>Accuracy</th>\n",
       "      <th>Precision</th>\n",
       "      <th>Recall</th>\n",
       "      <th>F1-Score</th>\n",
       "    </tr>\n",
       "  </thead>\n",
       "  <tbody>\n",
       "    <tr>\n",
       "      <th>0</th>\n",
       "      <td>0.928793</td>\n",
       "      <td>0.931620</td>\n",
       "      <td>0.928793</td>\n",
       "      <td>0.928722</td>\n",
       "    </tr>\n",
       "    <tr>\n",
       "      <th>1</th>\n",
       "      <td>0.915625</td>\n",
       "      <td>0.919335</td>\n",
       "      <td>0.915625</td>\n",
       "      <td>0.915748</td>\n",
       "    </tr>\n",
       "    <tr>\n",
       "      <th>2</th>\n",
       "      <td>0.905956</td>\n",
       "      <td>0.909062</td>\n",
       "      <td>0.905956</td>\n",
       "      <td>0.905553</td>\n",
       "    </tr>\n",
       "    <tr>\n",
       "      <th>3</th>\n",
       "      <td>0.905363</td>\n",
       "      <td>0.906692</td>\n",
       "      <td>0.905363</td>\n",
       "      <td>0.904680</td>\n",
       "    </tr>\n",
       "    <tr>\n",
       "      <th>4</th>\n",
       "      <td>0.891720</td>\n",
       "      <td>0.896902</td>\n",
       "      <td>0.891720</td>\n",
       "      <td>0.891474</td>\n",
       "    </tr>\n",
       "  </tbody>\n",
       "</table>\n",
       "</div>"
      ],
      "text/plain": [
       "   Accuracy  Precision    Recall  F1-Score\n",
       "0  0.928793   0.931620  0.928793  0.928722\n",
       "1  0.915625   0.919335  0.915625  0.915748\n",
       "2  0.905956   0.909062  0.905956  0.905553\n",
       "3  0.905363   0.906692  0.905363  0.904680\n",
       "4  0.891720   0.896902  0.891720  0.891474"
      ]
     },
     "execution_count": 26,
     "metadata": {},
     "output_type": "execute_result"
    }
   ],
   "source": [
    "df_2 = pd.DataFrame(acc_results_2)\n",
    "df_2.drop(columns=['fit_time', 'score_time'], inplace=True)\n",
    "columns = ['Accuracy', 'Precision', 'Recall', 'F1-Score']\n",
    "df_2.columns = columns\n",
    "df_2.head()"
   ]
  },
  {
   "cell_type": "code",
   "execution_count": 27,
   "metadata": {},
   "outputs": [
    {
     "data": {
      "text/html": [
       "<div>\n",
       "<style scoped>\n",
       "    .dataframe tbody tr th:only-of-type {\n",
       "        vertical-align: middle;\n",
       "    }\n",
       "\n",
       "    .dataframe tbody tr th {\n",
       "        vertical-align: top;\n",
       "    }\n",
       "\n",
       "    .dataframe thead th {\n",
       "        text-align: right;\n",
       "    }\n",
       "</style>\n",
       "<table border=\"1\" class=\"dataframe\">\n",
       "  <thead>\n",
       "    <tr style=\"text-align: right;\">\n",
       "      <th></th>\n",
       "      <th>Accuracy</th>\n",
       "      <th>Precision</th>\n",
       "      <th>Recall</th>\n",
       "      <th>F1-Score</th>\n",
       "    </tr>\n",
       "  </thead>\n",
       "  <tbody>\n",
       "    <tr>\n",
       "      <th>0</th>\n",
       "      <td>0.455108</td>\n",
       "      <td>0.389859</td>\n",
       "      <td>0.455108</td>\n",
       "      <td>0.367073</td>\n",
       "    </tr>\n",
       "    <tr>\n",
       "      <th>1</th>\n",
       "      <td>0.415625</td>\n",
       "      <td>0.280387</td>\n",
       "      <td>0.415625</td>\n",
       "      <td>0.304784</td>\n",
       "    </tr>\n",
       "    <tr>\n",
       "      <th>2</th>\n",
       "      <td>0.307210</td>\n",
       "      <td>0.220115</td>\n",
       "      <td>0.307210</td>\n",
       "      <td>0.210509</td>\n",
       "    </tr>\n",
       "    <tr>\n",
       "      <th>3</th>\n",
       "      <td>0.416404</td>\n",
       "      <td>0.307631</td>\n",
       "      <td>0.416404</td>\n",
       "      <td>0.330061</td>\n",
       "    </tr>\n",
       "    <tr>\n",
       "      <th>4</th>\n",
       "      <td>0.700637</td>\n",
       "      <td>0.711725</td>\n",
       "      <td>0.700637</td>\n",
       "      <td>0.701989</td>\n",
       "    </tr>\n",
       "  </tbody>\n",
       "</table>\n",
       "</div>"
      ],
      "text/plain": [
       "   Accuracy  Precision    Recall  F1-Score\n",
       "0  0.455108   0.389859  0.455108  0.367073\n",
       "1  0.415625   0.280387  0.415625  0.304784\n",
       "2  0.307210   0.220115  0.307210  0.210509\n",
       "3  0.416404   0.307631  0.416404  0.330061\n",
       "4  0.700637   0.711725  0.700637  0.701989"
      ]
     },
     "execution_count": 27,
     "metadata": {},
     "output_type": "execute_result"
    }
   ],
   "source": [
    "df_3 = pd.DataFrame(acc_results_3)\n",
    "df_3.drop(columns=['fit_time', 'score_time'], inplace=True)\n",
    "columns = ['Accuracy', 'Precision', 'Recall', 'F1-Score']\n",
    "df_3.columns = columns\n",
    "df_3.head()"
   ]
  },
  {
   "cell_type": "code",
   "execution_count": 28,
   "metadata": {},
   "outputs": [
    {
     "name": "stdout",
     "output_type": "stream",
     "text": [
      "\\begin{tabular}{lrrrr}\n",
      "\\toprule\n",
      "{} &  Accuracy &  Precision &    Recall &  F1-Score \\\\\n",
      "\\midrule\n",
      "0 &  0.950464 &   0.952765 &  0.950464 &  0.950754 \\\\\n",
      "1 &  0.940625 &   0.943325 &  0.940625 &  0.940952 \\\\\n",
      "2 &  0.946708 &   0.948859 &  0.946708 &  0.946992 \\\\\n",
      "3 &  0.917981 &   0.918406 &  0.917981 &  0.916991 \\\\\n",
      "4 &  0.888535 &   0.891115 &  0.888535 &  0.887928 \\\\\n",
      "\\bottomrule\n",
      "\\end{tabular}\n",
      "\n"
     ]
    }
   ],
   "source": [
    "print(df_1.to_latex())"
   ]
  },
  {
   "cell_type": "code",
   "execution_count": 29,
   "metadata": {},
   "outputs": [
    {
     "name": "stdout",
     "output_type": "stream",
     "text": [
      "\\begin{tabular}{lrrrr}\n",
      "\\toprule\n",
      "{} &  Accuracy &  Precision &    Recall &  F1-Score \\\\\n",
      "\\midrule\n",
      "0 &  0.928793 &   0.931620 &  0.928793 &  0.928722 \\\\\n",
      "1 &  0.915625 &   0.919335 &  0.915625 &  0.915748 \\\\\n",
      "2 &  0.905956 &   0.909062 &  0.905956 &  0.905553 \\\\\n",
      "3 &  0.905363 &   0.906692 &  0.905363 &  0.904680 \\\\\n",
      "4 &  0.891720 &   0.896902 &  0.891720 &  0.891474 \\\\\n",
      "\\bottomrule\n",
      "\\end{tabular}\n",
      "\n"
     ]
    }
   ],
   "source": [
    "print(df_2.to_latex())"
   ]
  },
  {
   "cell_type": "code",
   "execution_count": 30,
   "metadata": {},
   "outputs": [
    {
     "name": "stdout",
     "output_type": "stream",
     "text": [
      "\\begin{tabular}{lrrrr}\n",
      "\\toprule\n",
      "{} &  Accuracy &  Precision &    Recall &  F1-Score \\\\\n",
      "\\midrule\n",
      "0 &  0.455108 &   0.389859 &  0.455108 &  0.367073 \\\\\n",
      "1 &  0.415625 &   0.280387 &  0.415625 &  0.304784 \\\\\n",
      "2 &  0.307210 &   0.220115 &  0.307210 &  0.210509 \\\\\n",
      "3 &  0.416404 &   0.307631 &  0.416404 &  0.330061 \\\\\n",
      "4 &  0.700637 &   0.711725 &  0.700637 &  0.701989 \\\\\n",
      "\\bottomrule\n",
      "\\end{tabular}\n",
      "\n"
     ]
    }
   ],
   "source": [
    "print(df_3.to_latex())"
   ]
  },
  {
   "cell_type": "markdown",
   "metadata": {},
   "source": [
    "___"
   ]
  },
  {
   "cell_type": "markdown",
   "metadata": {},
   "source": [
    "### Analysis of results"
   ]
  },
  {
   "cell_type": "code",
   "execution_count": 31,
   "metadata": {},
   "outputs": [
    {
     "data": {
      "text/plain": [
       "array([3, 1, 0, ..., 2, 7, 0], dtype=int64)"
      ]
     },
     "execution_count": 31,
     "metadata": {},
     "output_type": "execute_result"
    }
   ],
   "source": [
    "val_predict_1 = cross_val_predict(neural_network_1, dataset.data.images, Y, cv=kfold)\n",
    "val_predict_1"
   ]
  },
  {
   "cell_type": "code",
   "execution_count": 32,
   "metadata": {},
   "outputs": [
    {
     "data": {
      "text/plain": [
       "array([3, 1, 0, ..., 2, 7, 0], dtype=int64)"
      ]
     },
     "execution_count": 32,
     "metadata": {},
     "output_type": "execute_result"
    }
   ],
   "source": [
    "val_predict_2 = cross_val_predict(neural_network_2, dataset.data.images, Y, cv=kfold)\n",
    "val_predict_2"
   ]
  },
  {
   "cell_type": "code",
   "execution_count": 33,
   "metadata": {},
   "outputs": [
    {
     "data": {
      "text/plain": [
       "array([2, 2, 5, ..., 1, 5, 5], dtype=int64)"
      ]
     },
     "execution_count": 33,
     "metadata": {},
     "output_type": "execute_result"
    }
   ],
   "source": [
    "val_predict_3 = cross_val_predict(neural_network_3, dataset.data.images, Y, cv=kfold)\n",
    "val_predict_3"
   ]
  },
  {
   "cell_type": "markdown",
   "metadata": {},
   "source": [
    "Generating the normalized confusion matrix and a classification report"
   ]
  },
  {
   "cell_type": "code",
   "execution_count": 34,
   "metadata": {},
   "outputs": [],
   "source": [
    "conf_mx_1 = confusion_matrix(Y, val_predict_1)\n",
    "row_sums = conf_mx_1.sum(axis=1, keepdims=True)\n",
    "norm_conf_mx_1 = conf_mx_1 / row_sums\n",
    "np.fill_diagonal(norm_conf_mx_1, 0)\n",
    "\n",
    "class_rep_1 = classification_report(Y, val_predict_1)"
   ]
  },
  {
   "cell_type": "code",
   "execution_count": 35,
   "metadata": {},
   "outputs": [],
   "source": [
    "conf_mx_2 = confusion_matrix(Y, val_predict_2)\n",
    "row_sums = conf_mx_2.sum(axis=1, keepdims=True)\n",
    "norm_conf_mx_2 = conf_mx_2 / row_sums\n",
    "np.fill_diagonal(norm_conf_mx_2, 0)\n",
    "\n",
    "class_rep_2 = classification_report(Y, val_predict_2)"
   ]
  },
  {
   "cell_type": "code",
   "execution_count": 36,
   "metadata": {},
   "outputs": [],
   "source": [
    "conf_mx_3 = confusion_matrix(Y, val_predict_3)\n",
    "row_sums = conf_mx_3.sum(axis=1, keepdims=True)\n",
    "norm_conf_mx_3 = conf_mx_3 / row_sums\n",
    "np.fill_diagonal(norm_conf_mx_3, 0)\n",
    "\n",
    "class_rep_3 = classification_report(Y, val_predict_3)"
   ]
  },
  {
   "cell_type": "code",
   "execution_count": 37,
   "metadata": {},
   "outputs": [
    {
     "name": "stdout",
     "output_type": "stream",
     "text": [
      "              precision    recall  f1-score   support\n",
      "\n",
      "           0       0.96      0.98      0.97       161\n",
      "           1       0.89      0.94      0.92       162\n",
      "           2       0.94      0.94      0.94       159\n",
      "           3       0.92      0.90      0.91       159\n",
      "           4       0.96      0.93      0.94       161\n",
      "           5       0.95      0.92      0.94       159\n",
      "           6       0.95      0.96      0.96       161\n",
      "           7       0.94      0.90      0.92       158\n",
      "           8       0.90      0.89      0.90       155\n",
      "           9       0.87      0.92      0.90       158\n",
      "\n",
      "   micro avg       0.93      0.93      0.93      1593\n",
      "   macro avg       0.93      0.93      0.93      1593\n",
      "weighted avg       0.93      0.93      0.93      1593\n",
      "\n"
     ]
    },
    {
     "data": {
      "text/plain": [
       "<matplotlib.image.AxesImage at 0x231048c3e48>"
      ]
     },
     "execution_count": 37,
     "metadata": {},
     "output_type": "execute_result"
    },
    {
     "data": {
      "image/png": "[encoded data removed]",
      "text/plain": [
       "<Figure size 288x288 with 1 Axes>"
      ]
     },
     "metadata": {
      "needs_background": "light"
     },
     "output_type": "display_data"
    }
   ],
   "source": [
    "print(class_rep_1)\n",
    "plt.matshow(norm_conf_mx_1, cmap=plt.cm.gray)"
   ]
  },
  {
   "cell_type": "code",
   "execution_count": 38,
   "metadata": {},
   "outputs": [
    {
     "name": "stdout",
     "output_type": "stream",
     "text": [
      "              precision    recall  f1-score   support\n",
      "\n",
      "           0       0.95      0.98      0.96       161\n",
      "           1       0.88      0.92      0.90       162\n",
      "           2       0.90      0.89      0.90       159\n",
      "           3       0.92      0.91      0.91       159\n",
      "           4       0.91      0.89      0.90       161\n",
      "           5       0.93      0.92      0.92       159\n",
      "           6       0.92      0.95      0.93       161\n",
      "           7       0.92      0.87      0.89       158\n",
      "           8       0.90      0.86      0.88       155\n",
      "           9       0.87      0.92      0.90       158\n",
      "\n",
      "   micro avg       0.91      0.91      0.91      1593\n",
      "   macro avg       0.91      0.91      0.91      1593\n",
      "weighted avg       0.91      0.91      0.91      1593\n",
      "\n"
     ]
    },
    {
     "data": {
      "text/plain": [
       "<matplotlib.image.AxesImage at 0x23102ce2940>"
      ]
     },
     "execution_count": 38,
     "metadata": {},
     "output_type": "execute_result"
    },
    {
     "data": {
      "image/png": "[encoded data removed]",
      "text/plain": [
       "<Figure size 288x288 with 1 Axes>"
      ]
     },
     "metadata": {
      "needs_background": "light"
     },
     "output_type": "display_data"
    }
   ],
   "source": [
    "print(class_rep_2)\n",
    "plt.matshow(norm_conf_mx_2, cmap=plt.cm.gray)"
   ]
  },
  {
   "cell_type": "code",
   "execution_count": 39,
   "metadata": {},
   "outputs": [
    {
     "name": "stdout",
     "output_type": "stream",
     "text": [
      "              precision    recall  f1-score   support\n",
      "\n",
      "           0       0.45      0.35      0.39       161\n",
      "           1       0.24      0.76      0.36       162\n",
      "           2       0.46      0.24      0.31       159\n",
      "           3       0.42      0.33      0.37       159\n",
      "           4       0.51      0.19      0.27       161\n",
      "           5       0.33      0.68      0.44       159\n",
      "           6       0.36      0.28      0.31       161\n",
      "           7       0.55      0.38      0.45       158\n",
      "           8       0.59      0.33      0.42       155\n",
      "           9       0.60      0.15      0.24       158\n",
      "\n",
      "   micro avg       0.37      0.37      0.37      1593\n",
      "   macro avg       0.45      0.37      0.36      1593\n",
      "weighted avg       0.45      0.37      0.36      1593\n",
      "\n"
     ]
    },
    {
     "data": {
      "text/plain": [
       "<matplotlib.image.AxesImage at 0x22f287adeb8>"
      ]
     },
     "execution_count": 39,
     "metadata": {},
     "output_type": "execute_result"
    },
    {
     "data": {
      "image/png": "[encoded data removed]",
      "text/plain": [
       "<Figure size 288x288 with 1 Axes>"
      ]
     },
     "metadata": {
      "needs_background": "light"
     },
     "output_type": "display_data"
    }
   ],
   "source": [
    "print(class_rep_3)\n",
    "plt.matshow(norm_conf_mx_3, cmap=plt.cm.gray)"
   ]
  },
  {
   "cell_type": "markdown",
   "metadata": {},
   "source": [
    "____"
   ]
  },
  {
   "cell_type": "markdown",
   "metadata": {},
   "source": [
    "### Saving the tensorflow model"
   ]
  },
  {
   "cell_type": "markdown",
   "metadata": {},
   "source": [
    "To save the model in lite format of tensorflow it was necessary to fit the network again. After the adjustment, the model was saved in the format of the tensorflow lite to be read and performed the statistical inference on the client's cell phone."
   ]
  },
  {
   "cell_type": "code",
   "execution_count": 40,
   "metadata": {},
   "outputs": [
    {
     "name": "stdout",
     "output_type": "stream",
     "text": [
      "Epoch 1/100\n",
      "1593/1593 [==============================] - 0s 155us/sample - loss: 2.3242 - accuracy: 0.0973\n",
      "Epoch 2/100\n",
      "1593/1593 [==============================] - 0s 80us/sample - loss: 2.2551 - accuracy: 0.2505\n",
      "Epoch 3/100\n",
      "1593/1593 [==============================] - 0s 78us/sample - loss: 2.2017 - accuracy: 0.4313\n",
      "Epoch 4/100\n",
      "1593/1593 [==============================] - 0s 89us/sample - loss: 2.1394 - accuracy: 0.6573\n",
      "Epoch 5/100\n",
      "1593/1593 [==============================] - 0s 79us/sample - loss: 2.0628 - accuracy: 0.7376\n",
      "Epoch 6/100\n",
      "1593/1593 [==============================] - 0s 72us/sample - loss: 1.9693 - accuracy: 0.7495\n",
      "Epoch 7/100\n",
      "1593/1593 [==============================] - 0s 69us/sample - loss: 1.8621 - accuracy: 0.7746\n",
      "Epoch 8/100\n",
      "1593/1593 [==============================] - 0s 71us/sample - loss: 1.7458 - accuracy: 0.7928\n",
      "Epoch 9/100\n",
      "1593/1593 [==============================] - 0s 73us/sample - loss: 1.6263 - accuracy: 0.8060\n",
      "Epoch 10/100\n",
      "1593/1593 [==============================] - 0s 72us/sample - loss: 1.5101 - accuracy: 0.8205\n",
      "Epoch 11/100\n",
      "1593/1593 [==============================] - 0s 73us/sample - loss: 1.3970 - accuracy: 0.8393\n",
      "Epoch 12/100\n",
      "1593/1593 [==============================] - 0s 63us/sample - loss: 1.2956 - accuracy: 0.8443\n",
      "Epoch 13/100\n",
      "1593/1593 [==============================] - 0s 65us/sample - loss: 1.1980 - accuracy: 0.8575\n",
      "Epoch 14/100\n",
      "1593/1593 [==============================] - 0s 64us/sample - loss: 1.1071 - accuracy: 0.8719\n",
      "Epoch 15/100\n",
      "1593/1593 [==============================] - 0s 61us/sample - loss: 1.0255 - accuracy: 0.8776\n",
      "Epoch 16/100\n",
      "1593/1593 [==============================] - 0s 62us/sample - loss: 0.9508 - accuracy: 0.8870\n",
      "Epoch 17/100\n",
      "1593/1593 [==============================] - 0s 63us/sample - loss: 0.8824 - accuracy: 0.8901\n",
      "Epoch 18/100\n",
      "1593/1593 [==============================] - 0s 65us/sample - loss: 0.8202 - accuracy: 0.8964\n",
      "Epoch 19/100\n",
      "1593/1593 [==============================] - 0s 63us/sample - loss: 0.7632 - accuracy: 0.9033\n",
      "Epoch 20/100\n",
      "1593/1593 [==============================] - 0s 63us/sample - loss: 0.7116 - accuracy: 0.9046\n",
      "Epoch 21/100\n",
      "1593/1593 [==============================] - 0s 61us/sample - loss: 0.6647 - accuracy: 0.9090\n",
      "Epoch 22/100\n",
      "1593/1593 [==============================] - 0s 64us/sample - loss: 0.6212 - accuracy: 0.9171\n",
      "Epoch 23/100\n",
      "1593/1593 [==============================] - 0s 61us/sample - loss: 0.5831 - accuracy: 0.9171\n",
      "Epoch 24/100\n",
      "1593/1593 [==============================] - 0s 61us/sample - loss: 0.5464 - accuracy: 0.9247\n",
      "Epoch 25/100\n",
      "1593/1593 [==============================] - 0s 61us/sample - loss: 0.5148 - accuracy: 0.9322\n",
      "Epoch 26/100\n",
      "1593/1593 [==============================] - 0s 66us/sample - loss: 0.4846 - accuracy: 0.9316\n",
      "Epoch 27/100\n",
      "1593/1593 [==============================] - 0s 69us/sample - loss: 0.4567 - accuracy: 0.9385\n",
      "Epoch 28/100\n",
      "1593/1593 [==============================] - 0s 65us/sample - loss: 0.4316 - accuracy: 0.9397\n",
      "Epoch 29/100\n",
      "1593/1593 [==============================] - 0s 64us/sample - loss: 0.4085 - accuracy: 0.9460\n",
      "Epoch 30/100\n",
      "1593/1593 [==============================] - 0s 64us/sample - loss: 0.3877 - accuracy: 0.9448\n",
      "Epoch 31/100\n",
      "1593/1593 [==============================] - 0s 61us/sample - loss: 0.3666 - accuracy: 0.9492\n",
      "Epoch 32/100\n",
      "1593/1593 [==============================] - 0s 65us/sample - loss: 0.3485 - accuracy: 0.9498\n",
      "Epoch 33/100\n",
      "1593/1593 [==============================] - 0s 64us/sample - loss: 0.3321 - accuracy: 0.9535\n",
      "Epoch 34/100\n",
      "1593/1593 [==============================] - 0s 64us/sample - loss: 0.3165 - accuracy: 0.9535\n",
      "Epoch 35/100\n",
      "1593/1593 [==============================] - 0s 61us/sample - loss: 0.3009 - accuracy: 0.9579\n",
      "Epoch 36/100\n",
      "1593/1593 [==============================] - 0s 61us/sample - loss: 0.2864 - accuracy: 0.9598\n",
      "Epoch 37/100\n",
      "1593/1593 [==============================] - 0s 65us/sample - loss: 0.2732 - accuracy: 0.9636\n",
      "Epoch 38/100\n",
      "1593/1593 [==============================] - 0s 73us/sample - loss: 0.2604 - accuracy: 0.9648\n",
      "Epoch 39/100\n",
      "1593/1593 [==============================] - 0s 88us/sample - loss: 0.2496 - accuracy: 0.9680\n",
      "Epoch 40/100\n",
      "1593/1593 [==============================] - 0s 79us/sample - loss: 0.2383 - accuracy: 0.9705\n",
      "Epoch 41/100\n",
      "1593/1593 [==============================] - 0s 75us/sample - loss: 0.2283 - accuracy: 0.9699\n",
      "Epoch 42/100\n",
      "1593/1593 [==============================] - 0s 68us/sample - loss: 0.2180 - accuracy: 0.9711\n",
      "Epoch 43/100\n",
      "1593/1593 [==============================] - 0s 73us/sample - loss: 0.2086 - accuracy: 0.9718\n",
      "Epoch 44/100\n",
      "1593/1593 [==============================] - 0s 83us/sample - loss: 0.2003 - accuracy: 0.9730\n",
      "Epoch 45/100\n",
      "1593/1593 [==============================] - 0s 68us/sample - loss: 0.1919 - accuracy: 0.9736\n",
      "Epoch 46/100\n",
      "1593/1593 [==============================] - 0s 61us/sample - loss: 0.1836 - accuracy: 0.9768\n",
      "Epoch 47/100\n",
      "1593/1593 [==============================] - 0s 64us/sample - loss: 0.1766 - accuracy: 0.9761\n",
      "Epoch 48/100\n",
      "1593/1593 [==============================] - 0s 68us/sample - loss: 0.1692 - accuracy: 0.9768\n",
      "Epoch 49/100\n",
      "1593/1593 [==============================] - 0s 87us/sample - loss: 0.1626 - accuracy: 0.9787\n",
      "Epoch 50/100\n",
      "1593/1593 [==============================] - 0s 86us/sample - loss: 0.1563 - accuracy: 0.9812\n",
      "Epoch 51/100\n",
      "1593/1593 [==============================] - 0s 65us/sample - loss: 0.1492 - accuracy: 0.9824\n",
      "Epoch 52/100\n",
      "1593/1593 [==============================] - 0s 69us/sample - loss: 0.1441 - accuracy: 0.9831\n",
      "Epoch 53/100\n",
      "1593/1593 [==============================] - 0s 78us/sample - loss: 0.1383 - accuracy: 0.9849\n",
      "Epoch 54/100\n",
      "1593/1593 [==============================] - 0s 88us/sample - loss: 0.1331 - accuracy: 0.9849\n",
      "Epoch 55/100\n",
      "1593/1593 [==============================] - 0s 79us/sample - loss: 0.1278 - accuracy: 0.9881\n",
      "Epoch 56/100\n",
      "1593/1593 [==============================] - 0s 67us/sample - loss: 0.1222 - accuracy: 0.9893\n",
      "Epoch 57/100\n",
      "1593/1593 [==============================] - 0s 60us/sample - loss: 0.1180 - accuracy: 0.9893\n",
      "Epoch 58/100\n",
      "1593/1593 [==============================] - 0s 63us/sample - loss: 0.1134 - accuracy: 0.9912\n",
      "Epoch 59/100\n",
      "1593/1593 [==============================] - 0s 64us/sample - loss: 0.1090 - accuracy: 0.9950\n",
      "Epoch 60/100\n",
      "1593/1593 [==============================] - 0s 64us/sample - loss: 0.1045 - accuracy: 0.9950\n",
      "Epoch 61/100\n",
      "1593/1593 [==============================] - 0s 61us/sample - loss: 0.1008 - accuracy: 0.9956\n",
      "Epoch 62/100\n",
      "1593/1593 [==============================] - 0s 60us/sample - loss: 0.0968 - accuracy: 0.9950\n",
      "Epoch 63/100\n",
      "1593/1593 [==============================] - 0s 64us/sample - loss: 0.0931 - accuracy: 0.9956\n",
      "Epoch 64/100\n",
      "1593/1593 [==============================] - 0s 75us/sample - loss: 0.0899 - accuracy: 0.9962\n",
      "Epoch 65/100\n",
      "1593/1593 [==============================] - 0s 75us/sample - loss: 0.0868 - accuracy: 0.9969\n",
      "Epoch 66/100\n",
      "1593/1593 [==============================] - 0s 81us/sample - loss: 0.0833 - accuracy: 0.9975\n",
      "Epoch 67/100\n",
      "1593/1593 [==============================] - 0s 74us/sample - loss: 0.0803 - accuracy: 0.9981\n",
      "Epoch 68/100\n",
      "1593/1593 [==============================] - 0s 58us/sample - loss: 0.0774 - accuracy: 0.9981\n",
      "Epoch 69/100\n",
      "1593/1593 [==============================] - 0s 66us/sample - loss: 0.0747 - accuracy: 0.9981\n",
      "Epoch 70/100\n",
      "1593/1593 [==============================] - 0s 76us/sample - loss: 0.0721 - accuracy: 0.9981\n",
      "Epoch 71/100\n",
      "1593/1593 [==============================] - 0s 77us/sample - loss: 0.0697 - accuracy: 0.9981\n",
      "Epoch 72/100\n",
      "1593/1593 [==============================] - 0s 64us/sample - loss: 0.0669 - accuracy: 0.9981\n",
      "Epoch 73/100\n",
      "1593/1593 [==============================] - 0s 68us/sample - loss: 0.0647 - accuracy: 0.9981\n",
      "Epoch 74/100\n",
      "1593/1593 [==============================] - 0s 76us/sample - loss: 0.0623 - accuracy: 0.9987\n",
      "Epoch 75/100\n",
      "1593/1593 [==============================] - 0s 71us/sample - loss: 0.0602 - accuracy: 0.9981\n",
      "Epoch 76/100\n",
      "1593/1593 [==============================] - 0s 66us/sample - loss: 0.0583 - accuracy: 0.9987\n",
      "Epoch 77/100\n",
      "1593/1593 [==============================] - 0s 66us/sample - loss: 0.0564 - accuracy: 0.9987\n",
      "Epoch 78/100\n",
      "1593/1593 [==============================] - 0s 75us/sample - loss: 0.0545 - accuracy: 0.9987\n",
      "Epoch 79/100\n",
      "1593/1593 [==============================] - 0s 69us/sample - loss: 0.0528 - accuracy: 0.9987\n",
      "Epoch 80/100\n",
      "1593/1593 [==============================] - 0s 63us/sample - loss: 0.0510 - accuracy: 0.9987\n",
      "Epoch 81/100\n",
      "1593/1593 [==============================] - 0s 61us/sample - loss: 0.0495 - accuracy: 0.9987\n",
      "Epoch 82/100\n",
      "1593/1593 [==============================] - 0s 64us/sample - loss: 0.0479 - accuracy: 0.9987\n",
      "Epoch 83/100\n",
      "1593/1593 [==============================] - 0s 70us/sample - loss: 0.0464 - accuracy: 0.9987\n",
      "Epoch 84/100\n",
      "1593/1593 [==============================] - 0s 69us/sample - loss: 0.0450 - accuracy: 0.9987\n",
      "Epoch 85/100\n",
      "1593/1593 [==============================] - 0s 63us/sample - loss: 0.0436 - accuracy: 0.9987\n",
      "Epoch 86/100\n",
      "1593/1593 [==============================] - 0s 61us/sample - loss: 0.0423 - accuracy: 0.9987\n",
      "Epoch 87/100\n",
      "1593/1593 [==============================] - 0s 69us/sample - loss: 0.0410 - accuracy: 0.9987\n",
      "Epoch 88/100\n",
      "1593/1593 [==============================] - 0s 72us/sample - loss: 0.0397 - accuracy: 0.9987\n",
      "Epoch 89/100\n",
      "1593/1593 [==============================] - 0s 63us/sample - loss: 0.0386 - accuracy: 0.9987\n",
      "Epoch 90/100\n",
      "1593/1593 [==============================] - 0s 65us/sample - loss: 0.0375 - accuracy: 0.9987\n",
      "Epoch 91/100\n",
      "1593/1593 [==============================] - 0s 67us/sample - loss: 0.0364 - accuracy: 0.9987\n",
      "Epoch 92/100\n",
      "1593/1593 [==============================] - 0s 71us/sample - loss: 0.0353 - accuracy: 0.9987\n",
      "Epoch 93/100\n",
      "1593/1593 [==============================] - 0s 59us/sample - loss: 0.0344 - accuracy: 0.9987\n",
      "Epoch 94/100\n",
      "1593/1593 [==============================] - 0s 65us/sample - loss: 0.0334 - accuracy: 0.9987\n",
      "Epoch 95/100\n",
      "1593/1593 [==============================] - 0s 66us/sample - loss: 0.0324 - accuracy: 0.9994\n",
      "Epoch 96/100\n",
      "1593/1593 [==============================] - 0s 70us/sample - loss: 0.0315 - accuracy: 0.9994\n",
      "Epoch 97/100\n",
      "1593/1593 [==============================] - 0s 65us/sample - loss: 0.0306 - accuracy: 1.0000\n",
      "Epoch 98/100\n",
      "1593/1593 [==============================] - 0s 58us/sample - loss: 0.0298 - accuracy: 1.0000\n",
      "Epoch 99/100\n",
      "1593/1593 [==============================] - 0s 60us/sample - loss: 0.0289 - accuracy: 1.0000\n",
      "Epoch 100/100\n",
      "1593/1593 [==============================] - 0s 80us/sample - loss: 0.0281 - accuracy: 1.0000\n"
     ]
    },
    {
     "data": {
      "text/plain": [
       "<tensorflow.python.keras.callbacks.History at 0x230ffb9c550>"
      ]
     },
     "execution_count": 40,
     "metadata": {},
     "output_type": "execute_result"
    }
   ],
   "source": [
    "model_save = create_model_2()\n",
    "model_save.fit(dataset.data.images, dataset.data.labels, epochs=100, batch_size=64)"
   ]
  },
  {
   "cell_type": "code",
   "execution_count": 41,
   "metadata": {},
   "outputs": [],
   "source": [
    "# Get the concrete function from the Keras model.\n",
    "run_model = tf.function(lambda x : model_save(x))\n",
    "\n",
    "# Save the concrete function.\n",
    "concrete_func = run_model.get_concrete_function(\n",
    "    tf.TensorSpec(model_save.inputs[0].shape, model_save.inputs[0].dtype))\n",
    "\n",
    "# Convert the model.\n",
    "converter = tf.lite.TFLiteConverter.from_concrete_function(concrete_func)\n",
    "tflite_model = converter.convert()\n",
    "\n",
    "open(\"semeion.tflite\", \"wb\").write(tflite_model)"
   ]
  }
 ],
 "metadata": {
  "kernelspec": {
   "display_name": "Python 3",
   "language": "python",
   "name": "python3"
  },
  "language_info": {
   "codemirror_mode": {
    "name": "ipython",
    "version": 3
   },
   "file_extension": ".py",
   "mimetype": "text/x-python",
   "name": "python",
   "nbconvert_exporter": "python",
   "pygments_lexer": "ipython3",
   "version": "3.7.1"
  }
 },
 "nbformat": 4,
 "nbformat_minor": 2
}
