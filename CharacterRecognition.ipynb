{
 "cells": [
  {
   "cell_type": "markdown",
   "metadata": {},
   "source": [
    "# Character Recognition with Semeion Dataset"
   ]
  },
  {
   "cell_type": "markdown",
   "metadata": {},
   "source": [
    "### Imports"
   ]
  },
  {
   "cell_type": "code",
   "execution_count": 1,
   "metadata": {},
   "outputs": [
    {
     "name": "stdout",
     "output_type": "stream",
     "text": [
      "2.0.0-alpha0\n"
     ]
    }
   ],
   "source": [
    "import os\n",
    "import datetime\n",
    "# TensorFlow and tf.keras\n",
    "import tensorflow as tf\n",
    "from tensorflow import keras\n",
    "\n",
    "from tensorflow.keras.wrappers.scikit_learn import KerasClassifier\n",
    "from tensorflow.python.framework import dtypes, random_seed\n",
    "\n",
    "from sklearn.model_selection import cross_val_score\n",
    "from sklearn.model_selection import StratifiedKFold\n",
    "from sklearn.model_selection import cross_val_predict\n",
    "from sklearn.model_selection import cross_validate\n",
    "from sklearn.metrics import confusion_matrix, classification_report\n",
    "from sklearn.metrics import make_scorer, accuracy_score, precision_score, recall_score, f1_score\n",
    "\n",
    "# Helper libraries\n",
    "import numpy as np\n",
    "import pandas as pd\n",
    "import collections\n",
    "from random import shuffle\n",
    "import matplotlib.pyplot as plt\n",
    "\n",
    "print(tf.__version__)"
   ]
  },
  {
   "cell_type": "markdown",
   "metadata": {},
   "source": [
    "___"
   ]
  },
  {
   "cell_type": "markdown",
   "metadata": {},
   "source": [
    "### Read the semeion dataset"
   ]
  },
  {
   "cell_type": "markdown",
   "metadata": {},
   "source": [
    "The semeion dataset consists of 1593 digits from 0 to 9 manuscripts, which were scanned in gray scale and adjusted in a rectangle of 16x16, totaling 256 pixels. Each line in the file consists of the value of 256 pixels (normalized between 0 and 1), followed by the number indication that the 256 pixels represent. This indication is made using 10 values. For example, an entry corresponding to the number 0 is indicated by [1000000000].\n",
    "\n",
    "The dataset is the object that will contain the data, and it has three attributes: train, test and data. Since train corresponds to 80% of the data scrambled and test corresponds to 20% of the scrambled data, each containing the images and labels. But, the data attribute has all the dataset also separated between images and labels but sorted as it comes in the file."
   ]
  },
  {
   "cell_type": "code",
   "execution_count": 2,
   "metadata": {},
   "outputs": [],
   "source": [
    "class DataSet(object):\n",
    "    def __init__(self, images, labels, reshape = False, seed = None):\n",
    "        seed1, seed2 = random_seed.get_seed(seed)\n",
    "\n",
    "        #If op level seed is not set, use whatever graph level seed is returned\n",
    "        np.random.seed(seed1 if seed is None else seed2)\n",
    "\n",
    "        assert images.shape[0] == labels.shape[0], ('images.shape: %s labels.shape: %s' % (images.shape, labels.shape))\n",
    "\n",
    "        self.num_examples = images.shape[0]\n",
    "\n",
    "        #Convert shape from [num examples, rows, columns, depth] to [num examples, rows*columns](assuming depth == 1)\n",
    "        if reshape:\n",
    "            assert images.shape[3] == 1\n",
    "            images = images.reshape(images.shape[0], images.shape[1] * images.shape[2])\n",
    "\n",
    "        self.images = images\n",
    "        self.labels = labels\n",
    "        \n",
    "\n",
    "\n",
    "def read_data_semeion(fname = 'data/semeion.data', test_split=False):\n",
    "    file = open(fname, 'r')\n",
    "    lines = file.readlines()\n",
    "\n",
    "    width = 16\n",
    "    height = 16\n",
    "    size = width * height\n",
    "    classes = 10\n",
    "\n",
    "    images = [];\n",
    "    labels = [];\n",
    "    fnumber = 0;\n",
    "\n",
    "    for line in lines:\n",
    "        data = line.split(' ')\n",
    "        image = [];\n",
    "        label = [];\n",
    "\n",
    "        for i in range(0, size):\n",
    "            image.append(int(float(data[i])))\n",
    "        images.append(image)\n",
    "\n",
    "        for i in range(size, size + classes):\n",
    "            label.append(int(float(data[i]))) \n",
    "        labels.append(label)\n",
    "\n",
    "        fnumber += 1\n",
    "    \n",
    "\n",
    "    Datasets = collections.namedtuple('Datasets', ['train', 'test', 'data'])\n",
    "    \n",
    "    #Shuffle data\n",
    "    images_shuffle = []\n",
    "    labels_shuffle = []\n",
    "    indexes = list(range(len(images)))\n",
    "    shuffle(indexes)\n",
    "    for i in indexes:\n",
    "        images_shuffle.append(images[i])\n",
    "        labels_shuffle.append(labels[i])\n",
    "\n",
    "    images = images_shuffle\n",
    "    labels = labels_shuffle\n",
    "\n",
    "    samples = len(lines)\n",
    "    train_samples = int(0.8*samples)\n",
    "    test_samples = int(0.2*samples) + 1\n",
    "\n",
    "    #Train set\n",
    "    image_train = np.array(images[:train_samples], dtype=np.uint8)\n",
    "    image_train = image_train.reshape(train_samples, width, height)\n",
    "\n",
    "    label_train = np.array(labels[:train_samples], dtype=np.uint8)\n",
    "\n",
    "    train = DataSet(image_train, label_train, reshape=False)\n",
    "\n",
    "    #test set\n",
    "    image_test = np.array(images[train_samples:], dtype=np.uint8)\n",
    "    image_test = image_test.reshape(test_samples, width, height)\n",
    "\n",
    "    label_test = np.array(labels[train_samples:], dtype=np.uint8)\n",
    "\n",
    "    test = DataSet(image_test, label_test, reshape=False)\n",
    "\n",
    "    image_data = np.array(images, dtype=np.uint8)\n",
    "    image_data = image_data.reshape(samples, width, height)\n",
    "    data = DataSet(image_data, np.array(labels, dtype=np.uint8))\n",
    "\n",
    "    return Datasets(train=train, test=test, data=data)\n",
    "\n",
    "\n",
    "dataset = read_data_semeion()"
   ]
  },
  {
   "cell_type": "markdown",
   "metadata": {},
   "source": [
    "#### Check the shape of the dataset"
   ]
  },
  {
   "cell_type": "code",
   "execution_count": 3,
   "metadata": {},
   "outputs": [
    {
     "data": {
      "text/plain": [
       "(1593, 16, 16)"
      ]
     },
     "execution_count": 3,
     "metadata": {},
     "output_type": "execute_result"
    }
   ],
   "source": [
    "dataset.data.images.shape"
   ]
  },
  {
   "cell_type": "code",
   "execution_count": 4,
   "metadata": {},
   "outputs": [
    {
     "data": {
      "text/plain": [
       "(1593, 10)"
      ]
     },
     "execution_count": 4,
     "metadata": {},
     "output_type": "execute_result"
    }
   ],
   "source": [
    "dataset.data.labels.shape"
   ]
  },
  {
   "cell_type": "code",
   "execution_count": 5,
   "metadata": {},
   "outputs": [
    {
     "data": {
      "text/plain": [
       "(1274, 16, 16)"
      ]
     },
     "execution_count": 5,
     "metadata": {},
     "output_type": "execute_result"
    }
   ],
   "source": [
    "dataset.train.images.shape"
   ]
  },
  {
   "cell_type": "code",
   "execution_count": 6,
   "metadata": {},
   "outputs": [
    {
     "data": {
      "text/plain": [
       "(1274, 10)"
      ]
     },
     "execution_count": 6,
     "metadata": {},
     "output_type": "execute_result"
    }
   ],
   "source": [
    "dataset.train.labels.shape"
   ]
  },
  {
   "cell_type": "code",
   "execution_count": 7,
   "metadata": {},
   "outputs": [
    {
     "data": {
      "text/plain": [
       "(319, 16, 16)"
      ]
     },
     "execution_count": 7,
     "metadata": {},
     "output_type": "execute_result"
    }
   ],
   "source": [
    "dataset.test.images.shape"
   ]
  },
  {
   "cell_type": "code",
   "execution_count": 8,
   "metadata": {},
   "outputs": [
    {
     "data": {
      "text/plain": [
       "(319, 10)"
      ]
     },
     "execution_count": 8,
     "metadata": {},
     "output_type": "execute_result"
    }
   ],
   "source": [
    "dataset.test.labels.shape"
   ]
  },
  {
   "cell_type": "markdown",
   "metadata": {},
   "source": [
    "#### Plot some images"
   ]
  },
  {
   "cell_type": "code",
   "execution_count": 9,
   "metadata": {},
   "outputs": [
    {
     "data": {
      "image/png": "[encoded data removed]",
      "text/plain": [
       "<Figure size 432x288 with 2 Axes>"
      ]
     },
     "metadata": {
      "needs_background": "light"
     },
     "output_type": "display_data"
    }
   ],
   "source": [
    "plt.figure()\n",
    "plt.imshow(dataset.test.images[301])\n",
    "plt.colorbar()\n",
    "plt.grid(False)"
   ]
  },
  {
   "cell_type": "code",
   "execution_count": 10,
   "metadata": {},
   "outputs": [
    {
     "data": {
      "image/png": "[encoded data removed]",
      "text/plain": [
       "<Figure size 720x720 with 25 Axes>"
      ]
     },
     "metadata": {},
     "output_type": "display_data"
    }
   ],
   "source": [
    "plt.figure(figsize=(10,10))\n",
    "for i in range(25):\n",
    "    plt.subplot(5,5,i+1)\n",
    "    plt.xticks([])\n",
    "    plt.yticks([])\n",
    "    plt.grid(False)\n",
    "    plt.imshow(dataset.data.images[i], cmap=plt.cm.binary)\n",
    "    plt.xlabel(np.argmax(dataset.train.labels[i]))\n",
    "plt.show()"
   ]
  },
  {
   "cell_type": "markdown",
   "metadata": {},
   "source": [
    "___"
   ]
  },
  {
   "cell_type": "markdown",
   "metadata": {},
   "source": [
    "### Create the first model architecture"
   ]
  },
  {
   "cell_type": "markdown",
   "metadata": {},
   "source": [
    "The multi-layer perceptron depicted below has an input layer that simply transforms images from 16x16 to 256. It has a hidden layer with 64 neurons and an output layer with 10 neurons. The activation functions used were the logistic function (sigmoid)."
   ]
  },
  {
   "cell_type": "code",
   "execution_count": 11,
   "metadata": {},
   "outputs": [],
   "source": [
    "# Function to create model, required for KerasClassifier\n",
    "def create_model():\n",
    "    # create model\n",
    "    model = keras.Sequential()\n",
    "    model.add(keras.layers.Flatten(input_shape=(16, 16)))\n",
    "    model.add(keras.layers.Dense(64, activation='sigmoid'))\n",
    "    model.add(keras.layers.Dense(10, activation='sigmoid'))\n",
    "    # Compile model\n",
    "    model.compile(loss='categorical_crossentropy', optimizer='adam', metrics=['accuracy'])\n",
    "    return model"
   ]
  },
  {
   "cell_type": "code",
   "execution_count": 12,
   "metadata": {},
   "outputs": [],
   "source": [
    "# Wrap Keras model so it can be used by scikit-learn\n",
    "neural_network = KerasClassifier(build_fn=create_model, \n",
    "                                 epochs=100, \n",
    "                                 batch_size=64, \n",
    "                                 verbose=0)"
   ]
  },
  {
   "cell_type": "markdown",
   "metadata": {},
   "source": [
    "the scores assessed on this problem are accuracy, precision, recall and f1_score."
   ]
  },
  {
   "cell_type": "code",
   "execution_count": 13,
   "metadata": {},
   "outputs": [],
   "source": [
    "scoring = {'accuracy' : make_scorer(accuracy_score), \n",
    "           'precision' : make_scorer(precision_score, average='weighted'),\n",
    "           'recall' : make_scorer(recall_score, average='weighted'), \n",
    "           'f1_score' : make_scorer(f1_score, average='weighted')}"
   ]
  },
  {
   "cell_type": "markdown",
   "metadata": {},
   "source": [
    "The labels have returned to categorization where a one-hot-embedding is not used. That is, [0100000000] becomes 1."
   ]
  },
  {
   "cell_type": "code",
   "execution_count": 14,
   "metadata": {},
   "outputs": [],
   "source": [
    "Y = []\n",
    "for y in range(len(dataset.data.labels)):\n",
    "    Y.append(np.argmax(dataset.data.labels[y]))"
   ]
  },
  {
   "cell_type": "markdown",
   "metadata": {},
   "source": [
    "Here the model is trained using cross-validation with five subsets with the same proportion of classes."
   ]
  },
  {
   "cell_type": "code",
   "execution_count": 15,
   "metadata": {},
   "outputs": [],
   "source": [
    "# Evaluate neural network using five-fold cross-validation\n",
    "kfold = StratifiedKFold(n_splits=5, shuffle=True, random_state=42)\n",
    "acc_results = cross_validate(neural_network, dataset.data.images, Y, cv=kfold, scoring=scoring, return_train_score=False)"
   ]
  },
  {
   "cell_type": "markdown",
   "metadata": {},
   "source": [
    "The results are:"
   ]
  },
  {
   "cell_type": "code",
   "execution_count": 16,
   "metadata": {},
   "outputs": [
    {
     "data": {
      "text/plain": [
       "{'fit_time': array([8.20788121, 7.66481924, 7.51336789, 6.93043232, 7.25946999]),\n",
       " 'score_time': array([0.04390812, 0.04188776, 0.0478971 , 0.04188824, 0.04890108]),\n",
       " 'test_accuracy': array([0.94427245, 0.90625   , 0.93730408, 0.9148265 , 0.92038217]),\n",
       " 'test_precision': array([0.94632749, 0.90877371, 0.93804929, 0.92000498, 0.92255684]),\n",
       " 'test_recall': array([0.94427245, 0.90625   , 0.93730408, 0.9148265 , 0.92038217]),\n",
       " 'test_f1_score': array([0.94445396, 0.906633  , 0.93694567, 0.91598158, 0.92021833])}"
      ]
     },
     "execution_count": 16,
     "metadata": {},
     "output_type": "execute_result"
    }
   ],
   "source": [
    "acc_results"
   ]
  },
  {
   "cell_type": "markdown",
   "metadata": {},
   "source": [
    "Transforming the results into a dataset to export to latex."
   ]
  },
  {
   "cell_type": "code",
   "execution_count": 17,
   "metadata": {},
   "outputs": [
    {
     "data": {
      "text/html": [
       "<div>\n",
       "<style scoped>\n",
       "    .dataframe tbody tr th:only-of-type {\n",
       "        vertical-align: middle;\n",
       "    }\n",
       "\n",
       "    .dataframe tbody tr th {\n",
       "        vertical-align: top;\n",
       "    }\n",
       "\n",
       "    .dataframe thead th {\n",
       "        text-align: right;\n",
       "    }\n",
       "</style>\n",
       "<table border=\"1\" class=\"dataframe\">\n",
       "  <thead>\n",
       "    <tr style=\"text-align: right;\">\n",
       "      <th></th>\n",
       "      <th>Accuracy</th>\n",
       "      <th>Precision</th>\n",
       "      <th>Recall</th>\n",
       "      <th>F1-Score</th>\n",
       "    </tr>\n",
       "  </thead>\n",
       "  <tbody>\n",
       "    <tr>\n",
       "      <th>0</th>\n",
       "      <td>0.944272</td>\n",
       "      <td>0.946327</td>\n",
       "      <td>0.944272</td>\n",
       "      <td>0.944454</td>\n",
       "    </tr>\n",
       "    <tr>\n",
       "      <th>1</th>\n",
       "      <td>0.906250</td>\n",
       "      <td>0.908774</td>\n",
       "      <td>0.906250</td>\n",
       "      <td>0.906633</td>\n",
       "    </tr>\n",
       "    <tr>\n",
       "      <th>2</th>\n",
       "      <td>0.937304</td>\n",
       "      <td>0.938049</td>\n",
       "      <td>0.937304</td>\n",
       "      <td>0.936946</td>\n",
       "    </tr>\n",
       "    <tr>\n",
       "      <th>3</th>\n",
       "      <td>0.914826</td>\n",
       "      <td>0.920005</td>\n",
       "      <td>0.914826</td>\n",
       "      <td>0.915982</td>\n",
       "    </tr>\n",
       "    <tr>\n",
       "      <th>4</th>\n",
       "      <td>0.920382</td>\n",
       "      <td>0.922557</td>\n",
       "      <td>0.920382</td>\n",
       "      <td>0.920218</td>\n",
       "    </tr>\n",
       "  </tbody>\n",
       "</table>\n",
       "</div>"
      ],
      "text/plain": [
       "   Accuracy  Precision    Recall  F1-Score\n",
       "0  0.944272   0.946327  0.944272  0.944454\n",
       "1  0.906250   0.908774  0.906250  0.906633\n",
       "2  0.937304   0.938049  0.937304  0.936946\n",
       "3  0.914826   0.920005  0.914826  0.915982\n",
       "4  0.920382   0.922557  0.920382  0.920218"
      ]
     },
     "execution_count": 17,
     "metadata": {},
     "output_type": "execute_result"
    }
   ],
   "source": [
    "df = pd.DataFrame(acc_results)\n",
    "df.drop(columns=['fit_time', 'score_time'], inplace=True)\n",
    "columns = ['Accuracy', 'Precision', 'Recall', 'F1-Score']\n",
    "df.columns = columns\n",
    "df.head()"
   ]
  },
  {
   "cell_type": "markdown",
   "metadata": {},
   "source": [
    "___"
   ]
  },
  {
   "cell_type": "markdown",
   "metadata": {},
   "source": [
    "### Analysis of results"
   ]
  },
  {
   "cell_type": "code",
   "execution_count": 18,
   "metadata": {},
   "outputs": [
    {
     "data": {
      "text/plain": [
       "array([2, 2, 5, ..., 2, 8, 5], dtype=int64)"
      ]
     },
     "execution_count": 18,
     "metadata": {},
     "output_type": "execute_result"
    }
   ],
   "source": [
    "val_predict = cross_val_predict(neural_network, dataset.data.images, Y, cv=kfold)\n",
    "val_predict"
   ]
  },
  {
   "cell_type": "markdown",
   "metadata": {},
   "source": [
    "Generating the normalized confusion matrix and a classification report"
   ]
  },
  {
   "cell_type": "code",
   "execution_count": 19,
   "metadata": {},
   "outputs": [],
   "source": [
    "conf_mx = confusion_matrix(Y, val_predict)\n",
    "row_sums = conf_mx.sum(axis=1, keepdims=True)\n",
    "norm_conf_mx = conf_mx / row_sums\n",
    "np.fill_diagonal(norm_conf_mx, 0)\n",
    "\n",
    "class_rep = classification_report(Y, val_predict)"
   ]
  },
  {
   "cell_type": "code",
   "execution_count": 20,
   "metadata": {},
   "outputs": [
    {
     "name": "stdout",
     "output_type": "stream",
     "text": [
      "              precision    recall  f1-score   support\n",
      "\n",
      "           0       0.96      0.96      0.96       161\n",
      "           1       0.89      0.91      0.90       162\n",
      "           2       0.92      0.92      0.92       159\n",
      "           3       0.92      0.92      0.92       159\n",
      "           4       0.92      0.92      0.92       161\n",
      "           5       0.95      0.93      0.94       159\n",
      "           6       0.93      0.97      0.95       161\n",
      "           7       0.93      0.91      0.92       158\n",
      "           8       0.90      0.85      0.87       155\n",
      "           9       0.87      0.91      0.89       158\n",
      "\n",
      "   micro avg       0.92      0.92      0.92      1593\n",
      "   macro avg       0.92      0.92      0.92      1593\n",
      "weighted avg       0.92      0.92      0.92      1593\n",
      "\n"
     ]
    },
    {
     "data": {
      "text/plain": [
       "<matplotlib.image.AxesImage at 0x1e976ce8748>"
      ]
     },
     "execution_count": 20,
     "metadata": {},
     "output_type": "execute_result"
    },
    {
     "data": {
      "image/png": "[encoded data removed]",
      "text/plain": [
       "<Figure size 288x288 with 1 Axes>"
      ]
     },
     "metadata": {
      "needs_background": "light"
     },
     "output_type": "display_data"
    }
   ],
   "source": [
    "print(class_rep)\n",
    "plt.matshow(norm_conf_mx, cmap=plt.cm.gray)"
   ]
  },
  {
   "cell_type": "markdown",
   "metadata": {},
   "source": [
    "____"
   ]
  },
  {
   "cell_type": "markdown",
   "metadata": {},
   "source": [
    "### Saving the tensorflow model"
   ]
  },
  {
   "cell_type": "markdown",
   "metadata": {},
   "source": [
    "To save the model in lite format of tensorflow it was necessary to fit the network again. After the adjustment, the model was saved in the format of the tensorflow lite to be read and performed the statistical inference on the client's cell phone."
   ]
  },
  {
   "cell_type": "code",
   "execution_count": 24,
   "metadata": {},
   "outputs": [
    {
     "name": "stdout",
     "output_type": "stream",
     "text": [
      "Epoch 1/100\n",
      "1593/1593 [==============================] - 0s 147us/sample - loss: 2.1777 - accuracy: 0.3427\n",
      "Epoch 2/100\n",
      "1593/1593 [==============================] - 0s 73us/sample - loss: 1.9211 - accuracy: 0.7250\n",
      "Epoch 3/100\n",
      "1593/1593 [==============================] - 0s 74us/sample - loss: 1.6590 - accuracy: 0.7916\n",
      "Epoch 4/100\n",
      "1593/1593 [==============================] - 0s 83us/sample - loss: 1.4071 - accuracy: 0.8299\n",
      "Epoch 5/100\n",
      "1593/1593 [==============================] - 0s 70us/sample - loss: 1.1881 - accuracy: 0.8619\n",
      "Epoch 6/100\n",
      "1593/1593 [==============================] - 0s 64us/sample - loss: 1.0115 - accuracy: 0.8763\n",
      "Epoch 7/100\n",
      "1593/1593 [==============================] - 0s 66us/sample - loss: 0.8720 - accuracy: 0.8864\n",
      "Epoch 8/100\n",
      "1593/1593 [==============================] - 0s 61us/sample - loss: 0.7602 - accuracy: 0.8983\n",
      "Epoch 9/100\n",
      "1593/1593 [==============================] - 0s 63us/sample - loss: 0.6718 - accuracy: 0.9065\n",
      "Epoch 10/100\n",
      "1593/1593 [==============================] - 0s 64us/sample - loss: 0.6003 - accuracy: 0.9115\n",
      "Epoch 11/100\n",
      "1593/1593 [==============================] - 0s 66us/sample - loss: 0.5391 - accuracy: 0.9228\n",
      "Epoch 12/100\n",
      "1593/1593 [==============================] - 0s 75us/sample - loss: 0.4897 - accuracy: 0.9328\n",
      "Epoch 13/100\n",
      "1593/1593 [==============================] - 0s 68us/sample - loss: 0.4470 - accuracy: 0.9372\n",
      "Epoch 14/100\n",
      "1593/1593 [==============================] - 0s 73us/sample - loss: 0.4134 - accuracy: 0.9385\n",
      "Epoch 15/100\n",
      "1593/1593 [==============================] - 0s 64us/sample - loss: 0.3807 - accuracy: 0.9479\n",
      "Epoch 16/100\n",
      "1593/1593 [==============================] - 0s 58us/sample - loss: 0.3539 - accuracy: 0.9523\n",
      "Epoch 17/100\n",
      "1593/1593 [==============================] - 0s 61us/sample - loss: 0.3295 - accuracy: 0.9586\n",
      "Epoch 18/100\n",
      "1593/1593 [==============================] - 0s 55us/sample - loss: 0.3069 - accuracy: 0.9623\n",
      "Epoch 19/100\n",
      "1593/1593 [==============================] - 0s 60us/sample - loss: 0.2875 - accuracy: 0.9630\n",
      "Epoch 20/100\n",
      "1593/1593 [==============================] - 0s 58us/sample - loss: 0.2706 - accuracy: 0.9648\n",
      "Epoch 21/100\n",
      "1593/1593 [==============================] - 0s 63us/sample - loss: 0.2545 - accuracy: 0.9680\n",
      "Epoch 22/100\n",
      "1593/1593 [==============================] - 0s 64us/sample - loss: 0.2409 - accuracy: 0.9692\n",
      "Epoch 23/100\n",
      "1593/1593 [==============================] - 0s 69us/sample - loss: 0.2287 - accuracy: 0.9711\n",
      "Epoch 24/100\n",
      "1593/1593 [==============================] - 0s 63us/sample - loss: 0.2152 - accuracy: 0.9749\n",
      "Epoch 25/100\n",
      "1593/1593 [==============================] - 0s 63us/sample - loss: 0.2043 - accuracy: 0.9755\n",
      "Epoch 26/100\n",
      "1593/1593 [==============================] - 0s 58us/sample - loss: 0.1938 - accuracy: 0.9793\n",
      "Epoch 27/100\n",
      "1593/1593 [==============================] - 0s 61us/sample - loss: 0.1843 - accuracy: 0.9805\n",
      "Epoch 28/100\n",
      "1593/1593 [==============================] - 0s 59us/sample - loss: 0.1753 - accuracy: 0.9824\n",
      "Epoch 29/100\n",
      "1593/1593 [==============================] - 0s 62us/sample - loss: 0.1676 - accuracy: 0.9831\n",
      "Epoch 30/100\n",
      "1593/1593 [==============================] - 0s 61us/sample - loss: 0.1602 - accuracy: 0.9856\n",
      "Epoch 31/100\n",
      "1593/1593 [==============================] - 0s 63us/sample - loss: 0.1523 - accuracy: 0.9881\n",
      "Epoch 32/100\n",
      "1593/1593 [==============================] - 0s 57us/sample - loss: 0.1452 - accuracy: 0.9900\n",
      "Epoch 33/100\n",
      "1593/1593 [==============================] - 0s 58us/sample - loss: 0.1391 - accuracy: 0.9906\n",
      "Epoch 34/100\n",
      "1593/1593 [==============================] - 0s 63us/sample - loss: 0.1333 - accuracy: 0.9906\n",
      "Epoch 35/100\n",
      "1593/1593 [==============================] - 0s 64us/sample - loss: 0.1275 - accuracy: 0.9944\n",
      "Epoch 36/100\n",
      "1593/1593 [==============================] - 0s 61us/sample - loss: 0.1219 - accuracy: 0.9937\n",
      "Epoch 37/100\n",
      "1593/1593 [==============================] - 0s 59us/sample - loss: 0.1166 - accuracy: 0.9937\n",
      "Epoch 38/100\n",
      "1593/1593 [==============================] - 0s 61us/sample - loss: 0.1114 - accuracy: 0.9950\n",
      "Epoch 39/100\n",
      "1593/1593 [==============================] - 0s 59us/sample - loss: 0.1072 - accuracy: 0.9962\n",
      "Epoch 40/100\n",
      "1593/1593 [==============================] - 0s 66us/sample - loss: 0.1039 - accuracy: 0.9950\n",
      "Epoch 41/100\n",
      "1593/1593 [==============================] - 0s 64us/sample - loss: 0.0990 - accuracy: 0.9956\n",
      "Epoch 42/100\n",
      "1593/1593 [==============================] - 0s 57us/sample - loss: 0.0953 - accuracy: 0.9962\n",
      "Epoch 43/100\n",
      "1593/1593 [==============================] - 0s 62us/sample - loss: 0.0922 - accuracy: 0.9962\n",
      "Epoch 44/100\n",
      "1593/1593 [==============================] - 0s 59us/sample - loss: 0.0881 - accuracy: 0.9962\n",
      "Epoch 45/100\n",
      "1593/1593 [==============================] - 0s 65us/sample - loss: 0.0846 - accuracy: 0.9969\n",
      "Epoch 46/100\n",
      "1593/1593 [==============================] - 0s 63us/sample - loss: 0.0810 - accuracy: 0.9975\n",
      "Epoch 47/100\n",
      "1593/1593 [==============================] - 0s 66us/sample - loss: 0.0782 - accuracy: 0.9981\n",
      "Epoch 48/100\n",
      "1593/1593 [==============================] - 0s 61us/sample - loss: 0.0753 - accuracy: 0.9981\n",
      "Epoch 49/100\n",
      "1593/1593 [==============================] - 0s 62us/sample - loss: 0.0724 - accuracy: 0.9981\n",
      "Epoch 50/100\n",
      "1593/1593 [==============================] - 0s 65us/sample - loss: 0.0703 - accuracy: 0.9981\n",
      "Epoch 51/100\n",
      "1593/1593 [==============================] - 0s 62us/sample - loss: 0.0673 - accuracy: 0.9981\n",
      "Epoch 52/100\n",
      "1593/1593 [==============================] - 0s 56us/sample - loss: 0.0648 - accuracy: 0.9981\n",
      "Epoch 53/100\n",
      "1593/1593 [==============================] - 0s 64us/sample - loss: 0.0629 - accuracy: 0.9981\n",
      "Epoch 54/100\n",
      "1593/1593 [==============================] - 0s 64us/sample - loss: 0.0605 - accuracy: 0.9981\n",
      "Epoch 55/100\n",
      "1593/1593 [==============================] - 0s 59us/sample - loss: 0.0586 - accuracy: 0.9981\n",
      "Epoch 56/100\n",
      "1593/1593 [==============================] - 0s 53us/sample - loss: 0.0565 - accuracy: 0.9981\n",
      "Epoch 57/100\n",
      "1593/1593 [==============================] - 0s 60us/sample - loss: 0.0548 - accuracy: 0.9987s - loss: 0.0559 - accuracy: 0.99\n",
      "Epoch 58/100\n",
      "1593/1593 [==============================] - 0s 61us/sample - loss: 0.0530 - accuracy: 0.9987\n",
      "Epoch 59/100\n",
      "1593/1593 [==============================] - 0s 61us/sample - loss: 0.0511 - accuracy: 0.9987\n",
      "Epoch 60/100\n",
      "1593/1593 [==============================] - 0s 59us/sample - loss: 0.0493 - accuracy: 0.9987\n",
      "Epoch 61/100\n",
      "1593/1593 [==============================] - 0s 60us/sample - loss: 0.0480 - accuracy: 0.9987\n",
      "Epoch 62/100\n",
      "1593/1593 [==============================] - 0s 63us/sample - loss: 0.0463 - accuracy: 0.9987\n",
      "Epoch 63/100\n",
      "1593/1593 [==============================] - 0s 80us/sample - loss: 0.0448 - accuracy: 0.9987\n",
      "Epoch 64/100\n",
      "1593/1593 [==============================] - 0s 81us/sample - loss: 0.0434 - accuracy: 0.9987\n",
      "Epoch 65/100\n",
      "1593/1593 [==============================] - 0s 76us/sample - loss: 0.0420 - accuracy: 0.9994\n",
      "Epoch 66/100\n",
      "1593/1593 [==============================] - 0s 75us/sample - loss: 0.0409 - accuracy: 0.9987\n",
      "Epoch 67/100\n",
      "1593/1593 [==============================] - 0s 61us/sample - loss: 0.0394 - accuracy: 0.9994\n",
      "Epoch 68/100\n",
      "1593/1593 [==============================] - 0s 55us/sample - loss: 0.0383 - accuracy: 0.9994\n",
      "Epoch 69/100\n",
      "1593/1593 [==============================] - 0s 60us/sample - loss: 0.0371 - accuracy: 0.9994\n",
      "Epoch 70/100\n",
      "1593/1593 [==============================] - 0s 61us/sample - loss: 0.0361 - accuracy: 0.9994\n",
      "Epoch 71/100\n",
      "1593/1593 [==============================] - 0s 78us/sample - loss: 0.0351 - accuracy: 0.9994\n",
      "Epoch 72/100\n",
      "1593/1593 [==============================] - 0s 68us/sample - loss: 0.0340 - accuracy: 0.9994\n",
      "Epoch 73/100\n",
      "1593/1593 [==============================] - 0s 56us/sample - loss: 0.0330 - accuracy: 0.9994\n",
      "Epoch 74/100\n",
      "1593/1593 [==============================] - 0s 59us/sample - loss: 0.0320 - accuracy: 0.9994\n",
      "Epoch 75/100\n",
      "1593/1593 [==============================] - 0s 61us/sample - loss: 0.0311 - accuracy: 0.9994\n",
      "Epoch 76/100\n",
      "1593/1593 [==============================] - 0s 58us/sample - loss: 0.0302 - accuracy: 0.9994\n",
      "Epoch 77/100\n"
     ]
    },
    {
     "name": "stdout",
     "output_type": "stream",
     "text": [
      "1593/1593 [==============================] - 0s 62us/sample - loss: 0.0294 - accuracy: 0.9994\n",
      "Epoch 78/100\n",
      "1593/1593 [==============================] - 0s 67us/sample - loss: 0.0286 - accuracy: 0.9994\n",
      "Epoch 79/100\n",
      "1593/1593 [==============================] - 0s 61us/sample - loss: 0.0278 - accuracy: 0.9994\n",
      "Epoch 80/100\n",
      "1593/1593 [==============================] - 0s 55us/sample - loss: 0.0270 - accuracy: 0.9994\n",
      "Epoch 81/100\n",
      "1593/1593 [==============================] - 0s 56us/sample - loss: 0.0263 - accuracy: 0.9994\n",
      "Epoch 82/100\n",
      "1593/1593 [==============================] - 0s 64us/sample - loss: 0.0256 - accuracy: 0.9994\n",
      "Epoch 83/100\n",
      "1593/1593 [==============================] - 0s 64us/sample - loss: 0.0250 - accuracy: 1.0000\n",
      "Epoch 84/100\n",
      "1593/1593 [==============================] - 0s 57us/sample - loss: 0.0243 - accuracy: 0.9994\n",
      "Epoch 85/100\n",
      "1593/1593 [==============================] - 0s 54us/sample - loss: 0.0236 - accuracy: 1.0000\n",
      "Epoch 86/100\n",
      "1593/1593 [==============================] - 0s 64us/sample - loss: 0.0231 - accuracy: 1.0000\n",
      "Epoch 87/100\n",
      "1593/1593 [==============================] - 0s 66us/sample - loss: 0.0224 - accuracy: 1.0000\n",
      "Epoch 88/100\n",
      "1593/1593 [==============================] - 0s 59us/sample - loss: 0.0219 - accuracy: 1.0000\n",
      "Epoch 89/100\n",
      "1593/1593 [==============================] - 0s 54us/sample - loss: 0.0214 - accuracy: 1.0000\n",
      "Epoch 90/100\n",
      "1593/1593 [==============================] - 0s 57us/sample - loss: 0.0208 - accuracy: 1.0000\n",
      "Epoch 91/100\n",
      "1593/1593 [==============================] - 0s 64us/sample - loss: 0.0203 - accuracy: 1.0000\n",
      "Epoch 92/100\n",
      "1593/1593 [==============================] - 0s 63us/sample - loss: 0.0199 - accuracy: 1.0000\n",
      "Epoch 93/100\n",
      "1593/1593 [==============================] - 0s 59us/sample - loss: 0.0193 - accuracy: 1.0000\n",
      "Epoch 94/100\n",
      "1593/1593 [==============================] - 0s 54us/sample - loss: 0.0190 - accuracy: 1.0000\n",
      "Epoch 95/100\n",
      "1593/1593 [==============================] - 0s 57us/sample - loss: 0.0184 - accuracy: 1.0000\n",
      "Epoch 96/100\n",
      "1593/1593 [==============================] - 0s 59us/sample - loss: 0.0179 - accuracy: 1.0000\n",
      "Epoch 97/100\n",
      "1593/1593 [==============================] - 0s 61us/sample - loss: 0.0175 - accuracy: 1.0000\n",
      "Epoch 98/100\n",
      "1593/1593 [==============================] - 0s 64us/sample - loss: 0.0171 - accuracy: 1.0000\n",
      "Epoch 99/100\n",
      "1593/1593 [==============================] - 0s 61us/sample - loss: 0.0167 - accuracy: 1.0000\n",
      "Epoch 100/100\n",
      "1593/1593 [==============================] - 0s 53us/sample - loss: 0.0164 - accuracy: 1.0000\n"
     ]
    },
    {
     "data": {
      "text/plain": [
       "<tensorflow.python.keras.callbacks.History at 0x1e97a325f60>"
      ]
     },
     "execution_count": 24,
     "metadata": {},
     "output_type": "execute_result"
    }
   ],
   "source": [
    "model_save = create_model()\n",
    "model_save.fit(dataset.data.images, dataset.data.labels, epochs=100, batch_size=64)"
   ]
  },
  {
   "cell_type": "code",
   "execution_count": 29,
   "metadata": {},
   "outputs": [],
   "source": [
    "# Get the concrete function from the Keras model.\n",
    "run_model = tf.function(lambda x : model_save(x))\n",
    "\n",
    "# Save the concrete function.\n",
    "concrete_func = run_model.get_concrete_function(\n",
    "    tf.TensorSpec(model_save.inputs[0].shape, model_save.inputs[0].dtype))\n",
    "\n",
    "# Convert the model.\n",
    "converter = tf.lite.TFLiteConverter.from_concrete_function(concrete_func)\n",
    "tflite_model = converter.convert()\n",
    "\n",
    "open(\"converted_model.tflite\", \"wb\").write(tflite_model)"
   ]
  },
  {
   "cell_type": "code",
   "execution_count": null,
   "metadata": {},
   "outputs": [],
   "source": []
  }
 ],
 "metadata": {
  "kernelspec": {
   "display_name": "Python 3",
   "language": "python",
   "name": "python3"
  },
  "language_info": {
   "codemirror_mode": {
    "name": "ipython",
    "version": 3
   },
   "file_extension": ".py",
   "mimetype": "text/x-python",
   "name": "python",
   "nbconvert_exporter": "python",
   "pygments_lexer": "ipython3",
   "version": "3.6.8"
  }
 },
 "nbformat": 4,
 "nbformat_minor": 2
}
